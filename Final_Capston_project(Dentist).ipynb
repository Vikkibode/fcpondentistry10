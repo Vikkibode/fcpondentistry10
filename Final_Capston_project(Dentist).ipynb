{
 "cells": [
  {
   "cell_type": "code",
   "execution_count": 1,
   "id": "f7a0cd26",
   "metadata": {},
   "outputs": [],
   "source": [
    "import pandas as pd  \n",
    "import numpy as np   \n",
    "import matplotlib.pyplot as plt  \n",
    "import seaborn as sns"
   ]
  },
  {
   "cell_type": "code",
   "execution_count": 3,
   "id": "e782ecfb",
   "metadata": {},
   "outputs": [
    {
     "name": "stdout",
     "output_type": "stream",
     "text": [
      "   Sl No  Sample ID  Age  Gender  inter canine distance intraoral  \\\n",
      "0      1        NaN   24  Female                            25.06   \n",
      "1      2        NaN   22  Female                            25.78   \n",
      "2      3        NaN   23  Female                            23.83   \n",
      "3      4        NaN   20  Female                            26.12   \n",
      "4      5        NaN   20  Female                            26.36   \n",
      "\n",
      "   intercanine distance casts  right canine width intraoral  \\\n",
      "0                       25.05                          6.08   \n",
      "1                       25.79                          6.13   \n",
      "2                       23.83                          5.91   \n",
      "3                       26.12                          6.08   \n",
      "4                       26.41                          6.09   \n",
      "\n",
      "   right canine width casts  left canine width intraoral  \\\n",
      "0                      6.08                         6.09   \n",
      "1                      6.13                         6.33   \n",
      "2                      5.96                         6.28   \n",
      "3                      6.08                         6.56   \n",
      "4                      6.09                         6.50   \n",
      "\n",
      "   left canine width casts  right canine index intra oral  \\\n",
      "0                     6.10                          0.242   \n",
      "1                     6.33                          0.237   \n",
      "2                     6.28                          0.248   \n",
      "3                     6.56                          0.232   \n",
      "4                     6.50                          0.231   \n",
      "\n",
      "   right canine index casts  left canine index intraoral  \\\n",
      "0                     0.242                        0.242   \n",
      "1                     0.237                        0.247   \n",
      "2                     0.248                        0.264   \n",
      "3                     0.232                        0.250   \n",
      "4                     0.231                        0.246   \n",
      "\n",
      "   left canine index casts  \n",
      "0                    0.241  \n",
      "1                    0.247  \n",
      "2                    0.264  \n",
      "3                    0.250  \n",
      "4                    0.246  \n"
     ]
    }
   ],
   "source": [
    "variable_name = pd.read_csv(\"Dentistry_Dataset[1].csv\")\n",
    "\n",
    "# Display the first few rows of the dataset to verify the import\n",
    "print(variable_name.head())"
   ]
  },
  {
   "cell_type": "code",
   "execution_count": 4,
   "id": "913e4872",
   "metadata": {},
   "outputs": [
    {
     "name": "stderr",
     "output_type": "stream",
     "text": [
      "C:\\Users\\HP\\AppData\\Local\\Temp\\ipykernel_14356\\2227697328.py:5: FutureWarning: The default value of numeric_only in DataFrame.mean is deprecated. In a future version, it will default to False. In addition, specifying 'numeric_only=None' is deprecated. Select only valid columns or specify the value of numeric_only to silence this warning.\n",
      "  df = variable_name.fillna(variable_name.mean())\n"
     ]
    }
   ],
   "source": [
    "# To drop rows with any missing values\n",
    "df = variable_name.dropna()\n",
    "\n",
    "# To fill missing values with the mean of the column\n",
    "df = variable_name.fillna(variable_name.mean())"
   ]
  },
  {
   "cell_type": "code",
   "execution_count": 5,
   "id": "2c0b9efa",
   "metadata": {},
   "outputs": [
    {
     "name": "stdout",
     "output_type": "stream",
     "text": [
      "Missing values in each column:\n",
      " Sl No                                 0\n",
      "Sample ID                          1100\n",
      "Age                                   0\n",
      "Gender                                0\n",
      "inter canine distance intraoral       0\n",
      "intercanine distance casts            0\n",
      "right canine width intraoral          0\n",
      "right canine width casts              0\n",
      "left canine width intraoral           0\n",
      "left canine width casts               0\n",
      "right canine index intra oral         0\n",
      "right canine index casts              0\n",
      "left canine index intraoral           0\n",
      "left canine index casts               0\n",
      "dtype: int64\n"
     ]
    }
   ],
   "source": [
    "print(\"Missing values in each column:\\n\", variable_name.isnull().sum())"
   ]
  },
  {
   "cell_type": "code",
   "execution_count": 6,
   "id": "e399975d",
   "metadata": {},
   "outputs": [
    {
     "name": "stderr",
     "output_type": "stream",
     "text": [
      "C:\\Users\\HP\\AppData\\Local\\Temp\\ipykernel_14356\\961064050.py:1: FutureWarning: The default value of numeric_only in DataFrame.mean is deprecated. In a future version, it will default to False. In addition, specifying 'numeric_only=None' is deprecated. Select only valid columns or specify the value of numeric_only to silence this warning.\n",
      "  variable_name.fillna(variable_name.mean(), inplace=True)\n"
     ]
    }
   ],
   "source": [
    "variable_name.fillna(variable_name.mean(), inplace=True)"
   ]
  },
  {
   "cell_type": "code",
   "execution_count": 7,
   "id": "4c0ae7eb",
   "metadata": {},
   "outputs": [
    {
     "name": "stdout",
     "output_type": "stream",
     "text": [
      "Missing values after filling:\n",
      " Sl No                                 0\n",
      "Sample ID                          1100\n",
      "Age                                   0\n",
      "Gender                                0\n",
      "inter canine distance intraoral       0\n",
      "intercanine distance casts            0\n",
      "right canine width intraoral          0\n",
      "right canine width casts              0\n",
      "left canine width intraoral           0\n",
      "left canine width casts               0\n",
      "right canine index intra oral         0\n",
      "right canine index casts              0\n",
      "left canine index intraoral           0\n",
      "left canine index casts               0\n",
      "dtype: int64\n"
     ]
    }
   ],
   "source": [
    "print(\"Missing values after filling:\\n\", variable_name.isnull().sum())"
   ]
  },
  {
   "cell_type": "code",
   "execution_count": 8,
   "id": "d9f57623",
   "metadata": {},
   "outputs": [],
   "source": [
    "from sklearn.preprocessing import LabelEncoder\n",
    "label_encoder = LabelEncoder()\n",
    "\n",
    "# Encode categorical columns\n",
    "# Assuming 'Gender' is a categorical column\n",
    "variable_name['Gender'] = label_encoder.fit_transform(variable_name['Gender'])"
   ]
  },
  {
   "cell_type": "code",
   "execution_count": 9,
   "id": "c5c175b1",
   "metadata": {},
   "outputs": [
    {
     "name": "stdout",
     "output_type": "stream",
     "text": [
      "Normalized X:\n",
      "[[0.24253563 0.9701425 ]\n",
      " [0.37139068 0.92847669]\n",
      " [0.4472136  0.89442719]]\n"
     ]
    }
   ],
   "source": [
    "import pandas as pd\n",
    "from sklearn.preprocessing import Normalizer\n",
    "\n",
    "# Example dataset\n",
    "data = pd.DataFrame({\n",
    "    'feature1': [1.0, 2.0, 3.0],\n",
    "    'feature2': [4.0, 5.0, 6.0],\n",
    "    'target': [10, 20, 30]\n",
    "})\n",
    "\n",
    "# Splitting X and Y\n",
    "X = data[['feature1', 'feature2']]\n",
    "Y = data['target']\n",
    "\n",
    "# Normalizing X\n",
    "normalizer = Normalizer()\n",
    "X_normalized = normalizer.fit_transform(X)\n",
    "\n",
    "print(\"Normalized X:\")\n",
    "print(X_normalized)"
   ]
  },
  {
   "cell_type": "code",
   "execution_count": 10,
   "id": "f8727301",
   "metadata": {},
   "outputs": [],
   "source": [
    "# Example data setup\n",
    "data = pd.DataFrame({\n",
    "    'feature1': [1.0, 2.0, 3.0, 4.0, 5.0],\n",
    "    'feature2': [2.0, 3.0, 4.0, 5.0, 6.0],\n",
    "    'feature3': [0.5, 1.5, 2.5, 3.5, 4.5],\n",
    "    'target': [10, 15, 20, 25, 30]\n",
    "})\n"
   ]
  },
  {
   "cell_type": "code",
   "execution_count": null,
   "id": "b2db17cf",
   "metadata": {},
   "outputs": [],
   "source": []
  },
  {
   "cell_type": "code",
   "execution_count": null,
   "id": "62fc98e6",
   "metadata": {},
   "outputs": [],
   "source": []
  },
  {
   "cell_type": "code",
   "execution_count": null,
   "id": "7147a979",
   "metadata": {},
   "outputs": [],
   "source": []
  },
  {
   "cell_type": "code",
   "execution_count": null,
   "id": "b89aab7d",
   "metadata": {},
   "outputs": [],
   "source": []
  },
  {
   "cell_type": "code",
   "execution_count": null,
   "id": "72f629fa",
   "metadata": {},
   "outputs": [],
   "source": []
  }
 ],
 "metadata": {
  "kernelspec": {
   "display_name": "Python 3 (ipykernel)",
   "language": "python",
   "name": "python3"
  },
  "language_info": {
   "codemirror_mode": {
    "name": "ipython",
    "version": 3
   },
   "file_extension": ".py",
   "mimetype": "text/x-python",
   "name": "python",
   "nbconvert_exporter": "python",
   "pygments_lexer": "ipython3",
   "version": "3.11.4"
  }
 },
 "nbformat": 4,
 "nbformat_minor": 5
}
